{
 "cells": [
  {
   "cell_type": "markdown",
   "metadata": {},
   "source": [
    "# Plan of presentation\n",
    "\n",
    "## I. Review of machine learning models\n",
    "        1. Supervised learning\n",
    "               a. Linear models: (linear, lasso, ridge, SVM)\n",
    "               b. Decision Trees\n",
    "               c. Nayive Bayes\n",
    "               d. K-nearest neighbours\n",
    "               e. Ensemble models: random forest\n",
    "               f. Stacking (Superlearner)\n",
    "               g. Neural Networks\n",
    "               h. Generalized Additive Models\n",
    "        \n",
    "        2. Unsupervised learning (clustering):\n",
    "               a. K-means clasifier\n",
    "               b. DBScan\n",
    "               \n",
    "        train-validatoin-test sets, uncertainty estimation, overfitting and regularization, feature engineering\n",
    "        \n",
    "        Libraries: scikitlearn, astroml\n",
    "        \n",
    "\n",
    "## II. Examples in astronomy\n",
    "\n",
    "       1. Exoplanet detection\n",
    "       2. Solar spot detection\n",
    "       3. Redshift measurements\n",
    "       4. Star-quasar-galaxy classification\n",
    "       "
   ]
  },
  {
   "cell_type": "code",
   "execution_count": null,
   "metadata": {},
   "outputs": [],
   "source": []
  }
 ],
 "metadata": {
  "kernelspec": {
   "display_name": "Python 3",
   "language": "python",
   "name": "python3"
  },
  "language_info": {
   "codemirror_mode": {
    "name": "ipython",
    "version": 3
   },
   "file_extension": ".py",
   "mimetype": "text/x-python",
   "name": "python",
   "nbconvert_exporter": "python",
   "pygments_lexer": "ipython3",
   "version": "3.7.6"
  }
 },
 "nbformat": 4,
 "nbformat_minor": 4
}
