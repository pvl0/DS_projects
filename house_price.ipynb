{
 "cells": [
  {
   "cell_type": "code",
   "execution_count": 1,
   "metadata": {},
   "outputs": [],
   "source": [
    "import pandas as pd\n",
    "import numpy as np"
   ]
  },
  {
   "cell_type": "code",
   "execution_count": 5,
   "metadata": {},
   "outputs": [],
   "source": [
    "data = pd.read_csv('house-prices-advanced/train.csv', index_col=0)\n",
    "test_main = pd.read_csv('house-prices-advanced/test.csv', index_col=0)"
   ]
  },
  {
   "cell_type": "code",
   "execution_count": 52,
   "metadata": {},
   "outputs": [
    {
     "data": {
      "text/plain": [
       "(1460, 80)"
      ]
     },
     "execution_count": 52,
     "metadata": {},
     "output_type": "execute_result"
    }
   ],
   "source": [
    "test.shape\n",
    "data.shape"
   ]
  },
  {
   "cell_type": "markdown",
   "metadata": {
    "scrolled": true
   },
   "source": [
    "LogSalePrice = data.SalePrice.apply(lambda x: np.log(x))\n",
    "data.SalePrice.hist(bins=21)"
   ]
  },
  {
   "cell_type": "code",
   "execution_count": 3,
   "metadata": {
    "scrolled": true
   },
   "outputs": [],
   "source": [
    "# [c for c in data if  == object]\n",
    "cat_feat = list(data.dtypes[data.dtypes == object].index)\n",
    "# data[cat_feat] = data[cat_feat].fillna('nan')\n",
    "# pd.get_dummies(data[cat_feat],)"
   ]
  },
  {
   "cell_type": "code",
   "execution_count": 37,
   "metadata": {
    "collapsed": true
   },
   "outputs": [
    {
     "data": {
      "text/plain": [
       "MSZoning          5\n",
       "Street            2\n",
       "Alley             2\n",
       "LotShape          4\n",
       "LandContour       4\n",
       "Utilities         2\n",
       "LotConfig         5\n",
       "LandSlope         3\n",
       "Neighborhood     25\n",
       "Condition1        9\n",
       "Condition2        8\n",
       "BldgType          5\n",
       "HouseStyle        8\n",
       "RoofStyle         6\n",
       "RoofMatl          8\n",
       "Exterior1st      15\n",
       "Exterior2nd      16\n",
       "MasVnrType        4\n",
       "ExterQual         4\n",
       "ExterCond         5\n",
       "Foundation        6\n",
       "BsmtQual          4\n",
       "BsmtCond          4\n",
       "BsmtExposure      4\n",
       "BsmtFinType1      6\n",
       "BsmtFinType2      6\n",
       "Heating           6\n",
       "HeatingQC         5\n",
       "CentralAir        2\n",
       "Electrical        5\n",
       "KitchenQual       4\n",
       "Functional        7\n",
       "FireplaceQu       5\n",
       "GarageType        6\n",
       "GarageFinish      3\n",
       "GarageQual        5\n",
       "GarageCond        5\n",
       "PavedDrive        3\n",
       "PoolQC            3\n",
       "Fence             4\n",
       "MiscFeature       4\n",
       "SaleType          9\n",
       "SaleCondition     6\n",
       "dtype: int64"
      ]
     },
     "execution_count": 37,
     "metadata": {},
     "output_type": "execute_result"
    }
   ],
   "source": [
    "data[cat_feat].nunique()"
   ]
  },
  {
   "cell_type": "code",
   "execution_count": 4,
   "metadata": {},
   "outputs": [],
   "source": [
    "num_feat = [f for f in data if f not in (cat_feat + ['SalePrice'])]"
   ]
  },
  {
   "cell_type": "code",
   "execution_count": 6,
   "metadata": {},
   "outputs": [],
   "source": [
    "dummy_train = pd.get_dummies(data[cat_feat],)\n",
    "dummy_test = pd.get_dummies(test[cat_feat],)\n",
    "\n",
    "dummy_cols = list(set(dummy_train) & set(dummy_test))\n",
    "\n",
    "dummy_train = dummy_train[dummy_cols]\n",
    "dummy_test  = dummy_test[dummy_cols]\n",
    "\n",
    "X = pd.concat([data[num_feat].fillna(-999), dummy_train], axis = 1)\n",
    "y = data.SalePrice\n",
    "test = pd.concat([test_main[num_feat].fillna(-999), dummy_test], axis = 1)"
   ]
  },
  {
   "cell_type": "code",
   "execution_count": 7,
   "metadata": {},
   "outputs": [],
   "source": [
    "from sklearn.tree import DecisionTreeRegressor\n",
    "from sklearn.ensemble import RandomForestRegressor\n",
    "from sklearn.model_selection import cross_val_score\n",
    "from sklearn.model_selection import GridSearchCV\n",
    "from sklearn.model_selection import KFold\n",
    "from sklearn.metrics import SCORERS"
   ]
  },
  {
   "cell_type": "code",
   "execution_count": 108,
   "metadata": {},
   "outputs": [],
   "source": [
    "kfold = KFold(shuffle=True, n_splits=10, random_state=21)\n",
    "params = {'max_depth': np.arange(5,25),\n",
    "         'min_samples_leaf': np.arange(1,40,5),\n",
    "         'random_state': [21]\n",
    "         }\n",
    "grid_search = GridSearchCV(DecisionTreeRegressor(), params, scoring = 'neg_mean_squared_log_error', \n",
    "                           cv = kfold, n_jobs=-1)\n",
    "grid_search.fit(X, y)\n",
    "pd.DataFrame(grid_search.cv_results_).sort_values('rank_test_score')[:3]"
   ]
  },
  {
   "cell_type": "code",
   "execution_count": 110,
   "metadata": {},
   "outputs": [],
   "source": [
    "predicted = grid_search.best_estimator_.predict(test)\n",
    "submit = pd.DataFrame(predicted, index = test.index, columns = ['SalePrice']).\\\n",
    "            to_csv('submission_house_prices_decision_tree.csv', header = True) \n",
    "#score = 0.19807, position = 3332, no matter the best parameters"
   ]
  },
  {
   "cell_type": "markdown",
   "metadata": {},
   "source": [
    "#### Random Forest"
   ]
  },
  {
   "cell_type": "code",
   "execution_count": 132,
   "metadata": {},
   "outputs": [
    {
     "data": {
      "text/html": [
       "<div>\n",
       "<style scoped>\n",
       "    .dataframe tbody tr th:only-of-type {\n",
       "        vertical-align: middle;\n",
       "    }\n",
       "\n",
       "    .dataframe tbody tr th {\n",
       "        vertical-align: top;\n",
       "    }\n",
       "\n",
       "    .dataframe thead th {\n",
       "        text-align: right;\n",
       "    }\n",
       "</style>\n",
       "<table border=\"1\" class=\"dataframe\">\n",
       "  <thead>\n",
       "    <tr style=\"text-align: right;\">\n",
       "      <th></th>\n",
       "      <th>mean_fit_time</th>\n",
       "      <th>std_fit_time</th>\n",
       "      <th>mean_score_time</th>\n",
       "      <th>std_score_time</th>\n",
       "      <th>param_max_depth</th>\n",
       "      <th>param_max_features</th>\n",
       "      <th>param_min_samples_leaf</th>\n",
       "      <th>param_n_estimators</th>\n",
       "      <th>param_random_state</th>\n",
       "      <th>params</th>\n",
       "      <th>split0_test_score</th>\n",
       "      <th>split1_test_score</th>\n",
       "      <th>split2_test_score</th>\n",
       "      <th>split3_test_score</th>\n",
       "      <th>split4_test_score</th>\n",
       "      <th>mean_test_score</th>\n",
       "      <th>std_test_score</th>\n",
       "      <th>rank_test_score</th>\n",
       "    </tr>\n",
       "  </thead>\n",
       "  <tbody>\n",
       "    <tr>\n",
       "      <th>0</th>\n",
       "      <td>13.611683</td>\n",
       "      <td>0.155916</td>\n",
       "      <td>0.104038</td>\n",
       "      <td>0.01753</td>\n",
       "      <td>10</td>\n",
       "      <td>0.5</td>\n",
       "      <td>3</td>\n",
       "      <td>1000</td>\n",
       "      <td>21</td>\n",
       "      <td>{'max_depth': 10, 'max_features': 0.5, 'min_sa...</td>\n",
       "      <td>-0.02197</td>\n",
       "      <td>-0.029403</td>\n",
       "      <td>-0.019678</td>\n",
       "      <td>-0.016361</td>\n",
       "      <td>-0.018052</td>\n",
       "      <td>-0.021093</td>\n",
       "      <td>0.004549</td>\n",
       "      <td>1</td>\n",
       "    </tr>\n",
       "  </tbody>\n",
       "</table>\n",
       "</div>"
      ],
      "text/plain": [
       "   mean_fit_time  std_fit_time  mean_score_time  std_score_time  \\\n",
       "0      13.611683      0.155916         0.104038         0.01753   \n",
       "\n",
       "  param_max_depth param_max_features param_min_samples_leaf  \\\n",
       "0              10                0.5                      3   \n",
       "\n",
       "  param_n_estimators param_random_state  \\\n",
       "0               1000                 21   \n",
       "\n",
       "                                              params  split0_test_score  \\\n",
       "0  {'max_depth': 10, 'max_features': 0.5, 'min_sa...           -0.02197   \n",
       "\n",
       "   split1_test_score  split2_test_score  split3_test_score  split4_test_score  \\\n",
       "0          -0.029403          -0.019678          -0.016361          -0.018052   \n",
       "\n",
       "   mean_test_score  std_test_score  rank_test_score  \n",
       "0        -0.021093        0.004549                1  "
      ]
     },
     "execution_count": 132,
     "metadata": {},
     "output_type": "execute_result"
    }
   ],
   "source": [
    "kfold = KFold(shuffle=True, n_splits=5, random_state=21)\n",
    "params = {'n_estimators': [1000],\n",
    "         'max_depth': [10],\n",
    "         'min_samples_leaf': [3],\n",
    "         'max_features': [0.5],\n",
    "         'random_state': [21]\n",
    "         }\n",
    "grid_search_rf = GridSearchCV(RandomForestRegressor(), params, scoring = 'neg_mean_squared_log_error', \n",
    "                           cv = kfold, n_jobs=-1)\n",
    "grid_search_rf.fit(X, y)\n",
    "\n",
    "\n",
    "pd.DataFrame(grid_search_rf.cv_results_).sort_values('rank_test_score')[:3]\n"
   ]
  },
  {
   "cell_type": "code",
   "execution_count": 148,
   "metadata": {},
   "outputs": [
    {
     "data": {
      "text/plain": [
       "<matplotlib.axes._subplots.AxesSubplot at 0x26e35769088>"
      ]
     },
     "execution_count": 148,
     "metadata": {},
     "output_type": "execute_result"
    },
    {
     "data": {
      "image/png": "[encoded data removed]",
      "text/plain": [
       "<Figure size 432x288 with 1 Axes>"
      ]
     },
     "metadata": {
      "needs_background": "light"
     },
     "output_type": "display_data"
    }
   ],
   "source": [
    "imp = pd.Series(grid_search_rf.best_estimator_.feature_importances_, index=X.columns)\n",
    "imp.sort_values(ascending=False).iloc[:20].plot(kind='barh')"
   ]
  },
  {
   "cell_type": "code",
   "execution_count": 133,
   "metadata": {},
   "outputs": [],
   "source": [
    "rf_preds_train = grid_search_rf.predict(X)"
   ]
  },
  {
   "cell_type": "code",
   "execution_count": 128,
   "metadata": {},
   "outputs": [],
   "source": [
    "predicted_rf = grid_search_rf.best_estimator_.predict(test)\n",
    "submit = pd.DataFrame(predicted_rf, index = test.index, columns = ['SalePrice']).\\\n",
    "            to_csv('submission_house_prices_rf.csv', header = True)\n",
    "# 0.14706 pos. 2238"
   ]
  },
  {
   "cell_type": "markdown",
   "metadata": {},
   "source": [
    "#### Extremely Randomized Trees"
   ]
  },
  {
   "cell_type": "code",
   "execution_count": 131,
   "metadata": {},
   "outputs": [
    {
     "data": {
      "text/html": [
       "<div>\n",
       "<style scoped>\n",
       "    .dataframe tbody tr th:only-of-type {\n",
       "        vertical-align: middle;\n",
       "    }\n",
       "\n",
       "    .dataframe tbody tr th {\n",
       "        vertical-align: top;\n",
       "    }\n",
       "\n",
       "    .dataframe thead th {\n",
       "        text-align: right;\n",
       "    }\n",
       "</style>\n",
       "<table border=\"1\" class=\"dataframe\">\n",
       "  <thead>\n",
       "    <tr style=\"text-align: right;\">\n",
       "      <th></th>\n",
       "      <th>mean_fit_time</th>\n",
       "      <th>std_fit_time</th>\n",
       "      <th>mean_score_time</th>\n",
       "      <th>std_score_time</th>\n",
       "      <th>param_max_depth</th>\n",
       "      <th>param_max_features</th>\n",
       "      <th>param_min_samples_leaf</th>\n",
       "      <th>param_n_estimators</th>\n",
       "      <th>param_random_state</th>\n",
       "      <th>params</th>\n",
       "      <th>split0_test_score</th>\n",
       "      <th>split1_test_score</th>\n",
       "      <th>split2_test_score</th>\n",
       "      <th>split3_test_score</th>\n",
       "      <th>split4_test_score</th>\n",
       "      <th>mean_test_score</th>\n",
       "      <th>std_test_score</th>\n",
       "      <th>rank_test_score</th>\n",
       "    </tr>\n",
       "  </thead>\n",
       "  <tbody>\n",
       "    <tr>\n",
       "      <th>0</th>\n",
       "      <td>12.442355</td>\n",
       "      <td>0.075702</td>\n",
       "      <td>0.115083</td>\n",
       "      <td>0.008311</td>\n",
       "      <td>10</td>\n",
       "      <td>0.5</td>\n",
       "      <td>3</td>\n",
       "      <td>1000</td>\n",
       "      <td>21</td>\n",
       "      <td>{'max_depth': 10, 'max_features': 0.5, 'min_sa...</td>\n",
       "      <td>-0.022636</td>\n",
       "      <td>-0.030654</td>\n",
       "      <td>-0.019542</td>\n",
       "      <td>-0.017784</td>\n",
       "      <td>-0.019662</td>\n",
       "      <td>-0.022056</td>\n",
       "      <td>0.004573</td>\n",
       "      <td>1</td>\n",
       "    </tr>\n",
       "  </tbody>\n",
       "</table>\n",
       "</div>"
      ],
      "text/plain": [
       "   mean_fit_time  std_fit_time  mean_score_time  std_score_time  \\\n",
       "0      12.442355      0.075702         0.115083        0.008311   \n",
       "\n",
       "  param_max_depth param_max_features param_min_samples_leaf  \\\n",
       "0              10                0.5                      3   \n",
       "\n",
       "  param_n_estimators param_random_state  \\\n",
       "0               1000                 21   \n",
       "\n",
       "                                              params  split0_test_score  \\\n",
       "0  {'max_depth': 10, 'max_features': 0.5, 'min_sa...          -0.022636   \n",
       "\n",
       "   split1_test_score  split2_test_score  split3_test_score  split4_test_score  \\\n",
       "0          -0.030654          -0.019542          -0.017784          -0.019662   \n",
       "\n",
       "   mean_test_score  std_test_score  rank_test_score  \n",
       "0        -0.022056        0.004573                1  "
      ]
     },
     "execution_count": 131,
     "metadata": {},
     "output_type": "execute_result"
    }
   ],
   "source": [
    "from sklearn.ensemble import ExtraTreesRegressor\n",
    "\n",
    "kfold = KFold(shuffle=True, n_splits=5, random_state=21)\n",
    "\n",
    "params = {'n_estimators': [1000],\n",
    "         'max_depth': [10],\n",
    "         'min_samples_leaf': [3],\n",
    "         'max_features': [0.5],\n",
    "         'random_state': [21]\n",
    "         }\n",
    "grid_search_ert = GridSearchCV(ExtraTreesRegressor(), params, scoring = 'neg_mean_squared_log_error', \n",
    "                           cv = kfold, n_jobs=-1)\n",
    "grid_search_ert.fit(X, y)\n",
    "\n",
    "# rf_preds_train = grid_search_rf.predict(y)\n",
    "pd.DataFrame(grid_search_ert.cv_results_).sort_values('rank_test_score')[:3]"
   ]
  },
  {
   "cell_type": "markdown",
   "metadata": {},
   "source": [
    "#### Linear Regression"
   ]
  },
  {
   "cell_type": "code",
   "execution_count": 8,
   "metadata": {},
   "outputs": [],
   "source": [
    "from sklearn.linear_model import LinearRegression"
   ]
  },
  {
   "cell_type": "code",
   "execution_count": 27,
   "metadata": {},
   "outputs": [],
   "source": [
    "from sklearn.preprocessing import StandardScaler\n",
    "\n",
    "train_median = data[num_feat].median()\n",
    "\n",
    "X_lin = pd.concat([data[num_feat].fillna(train_median),\n",
    "                     data[num_feat + cat_feat].isnull().astype(np.int8).add_suffix('_NaN'),\n",
    "                     dummy_train], axis=1)\n",
    "\n",
    "test_lin = pd.concat([test_main[num_feat].fillna(train_median),\n",
    "                     test_main[num_feat + cat_feat].isnull().astype(np.int8).add_suffix('_NaN'),\n",
    "                     dummy_test], axis=1)\n",
    "\n",
    "# X_lin.apply(lambda x: np.log(x+1))\n",
    "scaler = StandardScaler()\n",
    "scaler.fit(X_lin[num_feat])\n",
    "\n",
    "X_lin[num_feat] = scaler.transform(X_lin[num_feat])\n",
    "# y_lin = np.log(y)\n",
    "test_lin[num_feat] = scaler.transform(test_lin[num_feat])"
   ]
  },
  {
   "cell_type": "code",
   "execution_count": 55,
   "metadata": {},
   "outputs": [
    {
     "data": {
      "text/plain": [
       "0.12905784174532703"
      ]
     },
     "execution_count": 55,
     "metadata": {},
     "output_type": "execute_result"
    }
   ],
   "source": [
    "from sklearn.metrics import mean_squared_log_error\n",
    "from sklearn.linear_model import ElasticNetCV\n",
    "\n",
    "lr = ElasticNetCV(l1_ratio=[.1, .5, .7, .9, .95, .99, 1], cv=5, random_state=21)\n",
    "lin_predictions = lr.fit(X_lin,y).predict(X_lin)\n",
    "mean_squared_log_error(y, lin_predictions)**0.5\n"
   ]
  },
  {
   "cell_type": "code",
   "execution_count": 86,
   "metadata": {},
   "outputs": [
    {
     "data": {
      "text/plain": [
       "<matplotlib.axes._subplots.AxesSubplot at 0x2180bc81848>"
      ]
     },
     "execution_count": 86,
     "metadata": {},
     "output_type": "execute_result"
    },
    {
     "data": {
      "image/png": "[encoded data removed]",
      "text/plain": [
       "<Figure size 432x288 with 1 Axes>"
      ]
     },
     "metadata": {
      "needs_background": "light"
     },
     "output_type": "display_data"
    }
   ],
   "source": [
    "pd.DataFrame(lr.coef_, index = X_lin.columns, columns = ['importance']).sort_values(by='importance')[-3:].plot(kind='barh')"
   ]
  },
  {
   "cell_type": "code",
   "execution_count": 58,
   "metadata": {},
   "outputs": [],
   "source": [
    "predicted = lr.predict(test_lin)\n",
    "submit = pd.DataFrame(predicted, index = test_lin.index, columns = ['SalePrice']).\\\n",
    "            to_csv('submission_house_prices_lasso.csv', header = True)\n",
    "# 0.139 pos. 1891"
   ]
  },
  {
   "cell_type": "markdown",
   "metadata": {},
   "source": [
    "#### Linear Regression with log transform"
   ]
  },
  {
   "cell_type": "code",
   "execution_count": 88,
   "metadata": {},
   "outputs": [
    {
     "data": {
      "text/plain": [
       "0.11424048129488253"
      ]
     },
     "execution_count": 88,
     "metadata": {},
     "output_type": "execute_result"
    }
   ],
   "source": [
    "from sklearn.metrics import mean_squared_error\n",
    "X_lin = pd.concat([data[num_feat].fillna(train_median),\n",
    "                     data[num_feat + cat_feat].isnull().astype(np.int8).add_suffix('_NaN'),\n",
    "                     dummy_train], axis=1)\n",
    "\n",
    "test_lin = pd.concat([test_main[num_feat].fillna(train_median),\n",
    "                     test_main[num_feat + cat_feat].isnull().astype(np.int8).add_suffix('_NaN'),\n",
    "                     dummy_test], axis=1)\n",
    "\n",
    "X_lin = np.log1p(X_lin)\n",
    "y_log = np.log1p(y)\n",
    "test_log = np.log1p(test_lin)\n",
    "\n",
    "lr_log = ElasticNetCV(l1_ratio=[.1, .5, .7, .9, .95, .99, 1], cv=5, random_state=21)\n",
    "lin_predictions = lr_log.fit(X_lin,y_log).predict(X_lin)\n",
    "mean_squared_error(y_log, lin_predictions)**0.5"
   ]
  },
  {
   "cell_type": "code",
   "execution_count": 89,
   "metadata": {},
   "outputs": [
    {
     "data": {
      "text/plain": [
       "<matplotlib.axes._subplots.AxesSubplot at 0x2180d8c0908>"
      ]
     },
     "execution_count": 89,
     "metadata": {},
     "output_type": "execute_result"
    },
    {
     "data": {
      "image/png": "[encoded data removed]",
      "text/plain": [
       "<Figure size 432x288 with 1 Axes>"
      ]
     },
     "metadata": {
      "needs_background": "light"
     },
     "output_type": "display_data"
    }
   ],
   "source": [
    "pd.DataFrame(lr_log.coef_, index = X_lin.columns, columns = ['importance']).sort_values(by='importance')[-3:].plot(kind='barh')"
   ]
  },
  {
   "cell_type": "code",
   "execution_count": 93,
   "metadata": {},
   "outputs": [],
   "source": [
    "predicted = np.expm1(lr_log.predict(test_log))\n",
    "submit = pd.DataFrame(predicted, index = test_lin.index, columns = ['SalePrice']).\\\n",
    "            to_csv('submission_house_prices_lasso.csv', header = True)\n",
    "# 0.12245 pos. 894"
   ]
  },
  {
   "cell_type": "code",
   "execution_count": 106,
   "metadata": {},
   "outputs": [
    {
     "data": {
      "text/plain": [
       "<matplotlib.axes._subplots.AxesSubplot at 0x218114175c8>"
      ]
     },
     "execution_count": 106,
     "metadata": {},
     "output_type": "execute_result"
    },
    {
     "data": {
      "image/png": "[encoded data removed]",
      "text/plain": [
       "<Figure size 432x288 with 1 Axes>"
      ]
     },
     "metadata": {
      "needs_background": "light"
     },
     "output_type": "display_data"
    }
   ],
   "source": [
    "errors.plot()"
   ]
  },
  {
   "cell_type": "code",
   "execution_count": 122,
   "metadata": {},
   "outputs": [
    {
     "data": {
      "text/plain": [
       "[31, 463, 496, 524, 633, 969, 1299, 1325]"
      ]
     },
     "execution_count": 122,
     "metadata": {},
     "output_type": "execute_result"
    }
   ],
   "source": [
    "errors = y_log-lin_predictions\n",
    "errors[abs(errors) > 0.5].index.to_list()"
   ]
  },
  {
   "cell_type": "code",
   "execution_count": 125,
   "metadata": {},
   "outputs": [
    {
     "data": {
      "text/plain": [
       "0.09662500459052618"
      ]
     },
     "execution_count": 125,
     "metadata": {},
     "output_type": "execute_result"
    }
   ],
   "source": [
    "X_lin_cleaned = X_lin.drop(errors[abs(errors) > 0.5].index.to_list())\n",
    "y_log_clean = y_log.drop(errors[abs(errors) > 0.5].index.to_list())\n",
    "\n",
    "lr_log_clean = ElasticNetCV(l1_ratio=1, cv=5, random_state=21)\n",
    "lin_predictions_clean = lr_log_clean.fit(X_lin_cleaned,y_log_clean).predict(X_lin_cleaned)\n",
    "mean_squared_error(y_log_clean, lin_predictions_clean)**0.5"
   ]
  },
  {
   "cell_type": "code",
   "execution_count": 126,
   "metadata": {},
   "outputs": [],
   "source": [
    "predicted = np.expm1(lr_log_clean.predict(test_log))\n",
    "submit = pd.DataFrame(predicted, index = test_lin.index, columns = ['SalePrice']).\\\n",
    "            to_csv('submission_house_prices_lasso.csv', header = True)\n",
    "# 0.12039 pos. 741"
   ]
  },
  {
   "cell_type": "markdown",
   "metadata": {},
   "source": [
    "#### SVM regression"
   ]
  },
  {
   "cell_type": "code",
   "execution_count": 183,
   "metadata": {},
   "outputs": [
    {
     "data": {
      "text/plain": [
       "0.09129135289519168"
      ]
     },
     "execution_count": 183,
     "metadata": {},
     "output_type": "execute_result"
    }
   ],
   "source": [
    "from sklearn.svm import LinearSVR\n",
    "kfold = KFold(shuffle=True, n_splits=5, random_state=21)\n",
    "\n",
    "# (-cross_val_score(LinearSVR(C=0.1, max_iter = 50000, random_state=21), X_lin_cleaned, y_log_clean, \n",
    "#                   scoring = 'neg_mean_squared_error', cv = kfold, n_jobs=-1).mean())**0.5\n",
    "\n",
    "\n",
    "\n",
    "SVR_log_clean = LinearSVR(C=0.1, random_state=21, max_iter=100000)\n",
    "lin_predictions_SVR = SVR_log_clean.fit(X_lin_cleaned,y_log_clean).predict(X_lin_cleaned)\n",
    "mean_squared_error(y_log_clean, lin_predictions_SVR)**0.5"
   ]
  },
  {
   "cell_type": "code",
   "execution_count": 191,
   "metadata": {},
   "outputs": [],
   "source": [
    "predicted_SVR = np.expm1(SVR_log_clean.predict(test_log))\n",
    "submit = pd.DataFrame(predicted_SVR, index = test_lin.index, columns = ['SalePrice']).\\\n",
    "            to_csv('submission_house_prices_SVR.csv', header = True)\n",
    "# 0.12055 pos. 741"
   ]
  },
  {
   "cell_type": "markdown",
   "metadata": {},
   "source": [
    "#### add meta feature from SVR and ElasticNet "
   ]
  },
  {
   "cell_type": "code",
   "execution_count": 202,
   "metadata": {},
   "outputs": [
    {
     "data": {
      "text/plain": [
       "30228.438568048135"
      ]
     },
     "execution_count": 202,
     "metadata": {},
     "output_type": "execute_result"
    }
   ],
   "source": [
    "\n",
    "X_lin_cleaned_meta = pd.DataFrame(np.stack([lin_predictions_clean, lin_predictions_SVR], axis = 1), \n",
    "                                           index=X_lin_cleaned.index, columns = ['lr', 'SVR'])\n",
    "test_meta = pd.DataFrame(np.stack([predicted, predicted_SVR], axis = 1), \n",
    "                                           index=test.index, columns = ['lr', 'SVR'])\n",
    "y_clean = np.expm1(y_log_clean)\n",
    "\n",
    "lr_clean_meta = ElasticNetCV(l1_ratio=1, cv=5, random_state=21)\n",
    "lr_clean_meta.fit(X_lin_cleaned_meta, y_clean)\n",
    "lin_predictions_clean_meta = lr_clean_meta.predict(X_lin_cleaned_meta)\n",
    "mean_squared_error(y_clean, lin_predictions_clean_meta)**0.5"
   ]
  },
  {
   "cell_type": "code",
   "execution_count": 204,
   "metadata": {},
   "outputs": [],
   "source": [
    "predicted_meta = lr_clean_meta.predict(test_meta)\n",
    "submit = pd.DataFrame(predicted_meta, index = test_meta.index, columns = ['SalePrice']).\\\n",
    "            to_csv('submission_house_prices_lr_meta.csv', header = True)\n",
    "# 0.12055 pos. 741"
   ]
  },
  {
   "cell_type": "code",
   "execution_count": null,
   "metadata": {},
   "outputs": [],
   "source": []
  }
 ],
 "metadata": {
  "kernelspec": {
   "display_name": "Python 3",
   "language": "python",
   "name": "python3"
  },
  "language_info": {
   "codemirror_mode": {
    "name": "ipython",
    "version": 3
   },
   "file_extension": ".py",
   "mimetype": "text/x-python",
   "name": "python",
   "nbconvert_exporter": "python",
   "pygments_lexer": "ipython3",
   "version": "3.7.6"
  }
 },
 "nbformat": 4,
 "nbformat_minor": 4
}
