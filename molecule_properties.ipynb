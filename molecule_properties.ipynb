{
 "cells": [
  {
   "cell_type": "code",
   "execution_count": 1,
   "metadata": {},
   "outputs": [],
   "source": [
    "import numpy as np\n",
    "from sklearn import linear_model\n",
    "from sklearn.metrics import mean_squared_error\n",
    "from sklearn.model_selection import train_test_split\n",
    "from sklearn.model_selection import cross_val_score"
   ]
  },
  {
   "cell_type": "code",
   "execution_count": 2,
   "metadata": {},
   "outputs": [],
   "source": [
    "filename = \"coepra.txt\"\n",
    "raw_data = open(filename, 'rt')\n",
    "data = np.loadtxt(raw_data, delimiter=\",\")"
   ]
  },
  {
   "cell_type": "code",
   "execution_count": 4,
   "metadata": {},
   "outputs": [
    {
     "data": {
      "text/plain": [
       "(89, 5788)"
      ]
     },
     "execution_count": 4,
     "metadata": {},
     "output_type": "execute_result"
    }
   ],
   "source": [
    "data.shape"
   ]
  },
  {
   "cell_type": "code",
   "execution_count": 8,
   "metadata": {},
   "outputs": [
    {
     "data": {
      "text/plain": [
       "array([2.94 , 3.19 , 3.604, 3.79 , 3.91 , 3.96 , 4.   , 4.06 , 4.2  ,\n",
       "       4.21 ])"
      ]
     },
     "execution_count": 8,
     "metadata": {},
     "output_type": "execute_result"
    }
   ],
   "source": [
    "data[:10,5787]"
   ]
  },
  {
   "cell_type": "code",
   "execution_count": 5,
   "metadata": {},
   "outputs": [],
   "source": [
    "X=data[:,0:5787]\n",
    "y=data[:,5787]"
   ]
  },
  {
   "cell_type": "code",
   "execution_count": 9,
   "metadata": {},
   "outputs": [
    {
     "name": "stdout",
     "output_type": "stream",
     "text": [
      "Mean squared error: 0.00\n"
     ]
    }
   ],
   "source": [
    "# train and test split\n",
    "X_trn, X_tst, y_trn, y_tst = train_test_split(X, y, test_size=0.2, random_state=21)\n",
    "# Create linear regression object\n",
    "regr = linear_model.LinearRegression()\n",
    "# Train the model using the training sets\n",
    "regr.fit(X_trn, y_trn)\n",
    "# Make predictions using the training set\n",
    "y_pred = regr.predict(X_trn)\n",
    "# The mean squared error\n",
    "print(\"Mean squared error: %.2f\"\n",
    "      % mean_squared_error(y_trn, y_pred))"
   ]
  },
  {
   "cell_type": "code",
   "execution_count": 11,
   "metadata": {},
   "outputs": [
    {
     "name": "stdout",
     "output_type": "stream",
     "text": [
      "-1.077578929214512e+16\n"
     ]
    }
   ],
   "source": [
    "#0.00 error on train set? -> overfitting\n",
    "#K-Fold Cross validation \n",
    "scores = cross_val_score(regr, X_trn, y_trn, scoring='neg_mean_squared_error', cv=5)\n",
    "print(np.mean(scores))"
   ]
  },
  {
   "cell_type": "code",
   "execution_count": 15,
   "metadata": {},
   "outputs": [
    {
     "name": "stdout",
     "output_type": "stream",
     "text": [
      "Mean squared error: 25942738078816048.0\n"
     ]
    }
   ],
   "source": [
    "# very high error \n",
    "# Make predictions with test set\n",
    "y_pred_tst = regr.predict(X_tst)\n",
    "# The mean squared error\n",
    "print(\"Mean squared error: %.1f\"\n",
    "      % mean_squared_error(y_tst, y_pred_tst))"
   ]
  },
  {
   "cell_type": "code",
   "execution_count": 16,
   "metadata": {},
   "outputs": [
    {
     "name": "stdout",
     "output_type": "stream",
     "text": [
      "[-0.  0.  0. ... -0. -0.  0.]\n"
     ]
    }
   ],
   "source": [
    "# still high mean squared error\n",
    "# try Lasso (L1) regression\n",
    "regr = linear_model.Lasso(alpha=0.3, max_iter=1000000)\n",
    "regr.fit(X_trn, y_trn)\n",
    "# check the weights\n",
    "print(regr.coef_)"
   ]
  },
  {
   "cell_type": "code",
   "execution_count": 18,
   "metadata": {},
   "outputs": [
    {
     "name": "stdout",
     "output_type": "stream",
     "text": [
      "[  64  136  318  445  653  715  760  779  787  858 1234 1236 1295 1358\n",
      " 1422 1430 1731 1732 1737 1874 2247 2375 2380 2522 2581 2708 3023 3225\n",
      " 3332 3351 3666 3994 4002 4221 4303 4309 4511 4574 4637 4864 4952 5216\n",
      " 5261 5298 5462 5507 5589 5595 5735 5736]\n"
     ]
    }
   ],
   "source": [
    "# a lot of them are zero (point of Lasso regression)\n",
    "#Index of all non zero coffecients \n",
    "index=np.nonzero(regr.coef_)\n",
    "print(index[0])"
   ]
  },
  {
   "cell_type": "code",
   "execution_count": 19,
   "metadata": {},
   "outputs": [
    {
     "data": {
      "text/plain": [
       "(71, 50)"
      ]
     },
     "execution_count": 19,
     "metadata": {},
     "output_type": "execute_result"
    }
   ],
   "source": [
    "#New feature matrix with only selelcted features\n",
    "X_trn_filter=X_trn[:,index[0]]\n",
    "#New shape\n",
    "X_trn_filter.shape"
   ]
  },
  {
   "cell_type": "code",
   "execution_count": 20,
   "metadata": {},
   "outputs": [
    {
     "name": "stdout",
     "output_type": "stream",
     "text": [
      "Mean squared error: 0.06\n"
     ]
    }
   ],
   "source": [
    "# Make predictions using the training set\n",
    "y_pred = regr.predict(X_trn)\n",
    "# The mean squared error\n",
    "print(\"Mean squared error: %.2f\"\n",
    "      % mean_squared_error(y_trn, y_pred))"
   ]
  },
  {
   "cell_type": "code",
   "execution_count": 21,
   "metadata": {},
   "outputs": [
    {
     "name": "stdout",
     "output_type": "stream",
     "text": [
      "-1.5269452088240725\n"
     ]
    }
   ],
   "source": [
    "#K-Fold Cross validation \n",
    "scores = cross_val_score(regr, X_trn, y_trn, scoring='neg_mean_squared_error', cv=5)\n",
    "print(np.mean(scores))"
   ]
  },
  {
   "cell_type": "code",
   "execution_count": 22,
   "metadata": {},
   "outputs": [
    {
     "name": "stdout",
     "output_type": "stream",
     "text": [
      "Mean squared error: 0.12\n"
     ]
    }
   ],
   "source": [
    "# Make predictions using the testing set\n",
    "y_pred_tst = regr.predict(X_tst)\n",
    "# The mean squared error\n",
    "print(\"Mean squared error: %.2f\"\n",
    "      % mean_squared_error(y_tst, y_pred_tst))"
   ]
  },
  {
   "cell_type": "code",
   "execution_count": null,
   "metadata": {},
   "outputs": [],
   "source": []
  }
 ],
 "metadata": {
  "kernelspec": {
   "display_name": "Python 3",
   "language": "python",
   "name": "python3"
  },
  "language_info": {
   "codemirror_mode": {
    "name": "ipython",
    "version": 3
   },
   "file_extension": ".py",
   "mimetype": "text/x-python",
   "name": "python",
   "nbconvert_exporter": "python",
   "pygments_lexer": "ipython3",
   "version": "3.7.4"
  }
 },
 "nbformat": 4,
 "nbformat_minor": 4
}
