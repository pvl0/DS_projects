{
 "cells": [
  {
   "cell_type": "code",
   "execution_count": 3,
   "metadata": {},
   "outputs": [],
   "source": [
    "import numpy as np\n",
    "import pandas as pd\n",
    "from sklearn.model_selection import train_test_split \n",
    "import matplotlib.pyplot as plt\n",
    "import seaborn as sns\n",
    "from sklearn.linear_model import LogisticRegression\n",
    "from sklearn.ensemble import RandomForestClassifier\n",
    "from sklearn.ensemble import RandomForestRegressor\n",
    "from sklearn.metrics import mean_squared_error\n",
    "%matplotlib inline"
   ]
  },
  {
   "cell_type": "code",
   "execution_count": 4,
   "metadata": {},
   "outputs": [
    {
     "name": "stdout",
     "output_type": "stream",
     "text": [
      "train age MSE: 108.90607454508152\n",
      "valid age MSE: 116.78580854916186\n",
      "median age MSE: 236.75963240223462\n",
      "Wall time: 282 ms\n"
     ]
    },
    {
     "name": "stderr",
     "output_type": "stream",
     "text": [
      "C:\\Users\\pavlo\\anaconda\\lib\\site-packages\\pandas\\core\\indexing.py:670: SettingWithCopyWarning: \n",
      "A value is trying to be set on a copy of a slice from a DataFrame\n",
      "\n",
      "See the caveats in the documentation: https://pandas.pydata.org/pandas-docs/stable/user_guide/indexing.html#returning-a-view-versus-a-copy\n",
      "  self._setitem_with_indexer(indexer, value)\n",
      "C:\\Users\\pavlo\\anaconda\\lib\\site-packages\\pandas\\core\\indexing.py:670: SettingWithCopyWarning: \n",
      "A value is trying to be set on a copy of a slice from a DataFrame\n",
      "\n",
      "See the caveats in the documentation: https://pandas.pydata.org/pandas-docs/stable/user_guide/indexing.html#returning-a-view-versus-a-copy\n",
      "  self._setitem_with_indexer(indexer, value)\n"
     ]
    }
   ],
   "source": [
    "%%time\n",
    "test = pd.read_csv('test.csv', index_col = 0)\n",
    "train = pd.read_csv('train.csv', index_col = 0)\n",
    "# train.head()\n",
    "# train.info()\n",
    "# test.info()\n",
    "### encode values: Sex\n",
    "train.Sex = train.Sex.apply(lambda x: 1 if x=='male' else 0)\n",
    "test.Sex = test.Sex.apply(lambda x: 1 if x=='male' else 0)\n",
    "\n",
    "### impute missing or zero Fare values with median Fares for each Pclass\n",
    "train.loc[(train.Fare==0)&(train.Pclass==1),\"Fare\"] = train[(train['Fare']!=0)]\\\n",
    "                                                                .groupby('Pclass')['Fare'].describe()['50%'][1]\n",
    "train.loc[(train.Fare==0)&(train.Pclass==2),\"Fare\"] = train[(train['Fare']!=0)]\\\n",
    "                                                                .groupby('Pclass')['Fare'].describe()['50%'][2]\n",
    "\n",
    "train.loc[(train.Fare==0)&(train.Pclass==3),\"Fare\"] = train[(train['Fare']!=0)]\\\n",
    "                                                                .groupby('Pclass')['Fare'].describe()['50%'][3]\n",
    "\n",
    "test.loc[((pd.isnull(test['Fare'])==True)|(test.Fare==0))&(test.Pclass==1),\"Fare\"] = train[(train['Fare']!=0)]\\\n",
    "                                                                .groupby('Pclass')['Fare'].describe()['50%'][1]\n",
    "test.loc[((pd.isnull(test['Fare'])==True)|(test.Fare==0))&(test.Pclass==2),\"Fare\"] = train[(train['Fare']!=0)]\\\n",
    "                                                                .groupby('Pclass')['Fare'].describe()['50%'][2]\n",
    "\n",
    "test.loc[((pd.isnull(test['Fare'])==True)|(test.Fare==0))&(test.Pclass==3),\"Fare\"] = train[(train['Fare']!=0)]\\\n",
    "                                                                .groupby('Pclass')['Fare'].describe()['50%'][3]\n",
    "\n",
    "# extract titles from names\n",
    "def title_extractor(row):\n",
    "    return row.split(',')[1].strip().split('.')[0]\n",
    "titles_train = train.Name.apply(title_extractor)\n",
    "titles_test = test.Name.apply(title_extractor)\n",
    "titles_train = titles_train.map({'Mr':'Mr','Mrs':'Mrs','Miss':'Miss','Master':'Master','Dr':'Dr','Rev':'Rev',\n",
    "                                   'Don':'Mr', 'Mlle':'Miss', 'Lady':'Mrs', 'Ms':'Mrs', \n",
    "                                   'Mme':'Mrs', 'the Countess': 'Mrs', 'Col':'Mr','Major':'Mr',\n",
    "                                  'Sir':'Mr','Jonkheer':'Mr','Capt':'Mr'})\n",
    "titles_test = titles_test.map({'Mr':'Mr','Mrs':'Mrs','Miss':'Miss','Master':'Master','Dr':'Dr','Rev':'Rev',\n",
    "                                   'Don':'Mr', 'Mlle':'Miss', 'Lady':'Mrs', 'Ms':'Mrs', \n",
    "                                   'Mme':'Mrs', 'the Countess': 'Mrs', 'Col':'Mr','Major':'Mr',\n",
    "                                  'Sir':'Mr','Jonkheer':'Mr','Capt':'Mr',\n",
    "                              'Dona':'Mrs'})\n",
    "\n",
    "if 'Title' not in train.columns:\n",
    "    train['Title'] = titles_train\n",
    "    title_encoded_train = pd.get_dummies(train.Title, prefix_sep = '_', drop_first = True)\n",
    "    train = pd.concat([train, title_encoded_train], axis = 1)\n",
    "if 'Title' not in test.columns:\n",
    "    test['Title'] = titles_test\n",
    "    title_encoded_test = pd.get_dummies(test.Title, prefix_sep = '_', drop_first = True)\n",
    "    test = pd.concat([test, title_encoded_test], axis = 1)\n",
    "\n",
    "#encode port of embarkation\n",
    "train = pd.concat([train, pd.get_dummies(train.Embarked, prefix_sep = '_', drop_first = True)], axis = 1)\n",
    "test = pd.concat([test, pd.get_dummies(test.Embarked, prefix_sep = '_', drop_first = True)], axis = 1)\n",
    "\n",
    "# add Family size, IsAlone and Has_Cabin\n",
    "\n",
    "train['FamilySize'] = train['Parch'] + train['SibSp'] + 1\n",
    "test['FamilySize'] = test['Parch'] + test['SibSp'] + 1\n",
    "train['IsAlone'] = (train['FamilySize'] == 1).astype(np.int8)\n",
    "test['IsAlone'] = (test['FamilySize'] == 1).astype(np.int8)\n",
    "train['HasCabin'] = train['Cabin'].apply(lambda x: 0 if type(x) == float else 1)\n",
    "test['HasCabin'] = test['Cabin'].apply(lambda x: 0 if type(x) == float else 1)\n",
    "\n",
    "    #categorical columns\n",
    "col_types = train.dtypes.to_frame().reset_index()\n",
    "cat_cols = col_types.loc[col_types[0]=='object']['index']\n",
    "cat_cols\n",
    "\n",
    "### ### impute Age by prediction with random forest regressor\n",
    "#y and X sets for Age\n",
    "y_age = train[pd.isnull(train['Age'])==False]['Age']\n",
    "X_age = train[pd.isnull(train['Age'])==False].drop(cat_cols,axis=1).drop(['Age','Survived'],axis=1)\n",
    "\n",
    "#train and val split for Age \n",
    "X_age_train, X_age_val, y_age_train, y_age_val = train_test_split(X_age, y_age, test_size = 0.25, random_state = 21)\n",
    "\n",
    "# select entries with missing Age\n",
    "X_nullage = train[pd.isnull(train['Age'])==True].drop(cat_cols,axis=1).drop(['Age','Survived'],axis=1)\n",
    "\n",
    "# instantiate random forest regressor\n",
    "age_reg = RandomForestRegressor(max_depth=4, random_state=21)\n",
    "age_reg.fit(X_age_train, y_age_train)\n",
    "\n",
    "# predict age for train and val sets\n",
    "y_age_train_pred = age_reg.predict(X_age_train)\n",
    "y_age_val_pred = age_reg.predict(X_age_val)\n",
    "\n",
    "# check mean square erorrs and compare to simple median age imputer\n",
    "print(f'train age MSE: {mean_squared_error(y_age_train, y_age_train_pred)}')\n",
    "print(f'valid age MSE: {mean_squared_error(y_age_val, y_age_val_pred)}')\n",
    "print(f'median age MSE: {mean_squared_error(y_age_val, np.asarray([y_age.median() for i in range(len(y_age_val))]))}')\n",
    "\n",
    "# predict misisng Age values\n",
    "age_imputed = age_reg.predict(X_nullage)\n",
    "# replace null Age with predictions\n",
    "X_nullage['Age'] = age_imputed\n",
    "train.Age.loc[X_nullage['Age'].index] = X_nullage['Age'].copy()\n",
    "\n",
    "### test set age imputation\n",
    "test_nullage = test[pd.isnull(test['Age'])==True].drop(cat_cols,axis=1).drop('Age',axis=1)\n",
    "age_test_imputed = age_reg.predict(test[pd.isnull(test['Age'])==True].drop(cat_cols,axis=1).drop('Age',axis=1))\n",
    "test_nullage['Age'] = age_test_imputed\n",
    "test.Age.loc[test_nullage['Age'].index] = test_nullage['Age'].copy()"
   ]
  },
  {
   "cell_type": "code",
   "execution_count": 23,
   "metadata": {
    "scrolled": true
   },
   "outputs": [
    {
     "data": {
      "text/plain": [
       "Mr        525\n",
       "Miss      184\n",
       "Mrs       129\n",
       "Master     40\n",
       "Dr          7\n",
       "Rev         6\n",
       "Name: Name, dtype: int64"
      ]
     },
     "execution_count": 23,
     "metadata": {},
     "output_type": "execute_result"
    }
   ],
   "source": [
    "\n",
    "titles_test.value_counts()\n",
    "titles_train.value_counts()"
   ]
  },
  {
   "cell_type": "code",
   "execution_count": 24,
   "metadata": {},
   "outputs": [
    {
     "data": {
      "text/plain": [
       "119"
      ]
     },
     "execution_count": 24,
     "metadata": {},
     "output_type": "execute_result"
    }
   ],
   "source": [
    "train[train.Pclass==3].Survived.sum()"
   ]
  },
  {
   "cell_type": "code",
   "execution_count": 25,
   "metadata": {
    "scrolled": false
   },
   "outputs": [
    {
     "data": {
      "text/plain": [
       "<Figure size 432x216 with 0 Axes>"
      ]
     },
     "metadata": {},
     "output_type": "display_data"
    },
    {
     "data": {
      "image/png": "[encoded data removed]",
      "text/plain": [
       "<Figure size 1800x360 with 3 Axes>"
      ]
     },
     "metadata": {},
     "output_type": "display_data"
    }
   ],
   "source": [
    "plt.figure(figsize=(6,3))\n",
    "sns.set(style=\"whitegrid\")\n",
    "g = sns.catplot(y = 'Survived', x = 'Sex', col = 'Pclass', data = train, \n",
    "            kind = 'bar', col_wrap=5, legend=True)\n"
   ]
  },
  {
   "cell_type": "code",
   "execution_count": 26,
   "metadata": {
    "scrolled": true
   },
   "outputs": [
    {
     "data": {
      "text/plain": [
       "<seaborn.axisgrid.FacetGrid at 0x28614a4b5c8>"
      ]
     },
     "execution_count": 26,
     "metadata": {},
     "output_type": "execute_result"
    },
    {
     "data": {
      "image/png": "[encoded data removed]",
      "text/plain": [
       "<Figure size 360x360 with 1 Axes>"
      ]
     },
     "metadata": {},
     "output_type": "display_data"
    }
   ],
   "source": [
    "\n",
    "sns.catplot(y = 'Age', x = 'Title', data = train, kind = 'bar')"
   ]
  },
  {
   "cell_type": "code",
   "execution_count": 27,
   "metadata": {
    "scrolled": true
   },
   "outputs": [
    {
     "data": {
      "text/plain": [
       "<seaborn.axisgrid.FacetGrid at 0x28615d88ec8>"
      ]
     },
     "execution_count": 27,
     "metadata": {},
     "output_type": "execute_result"
    },
    {
     "data": {
      "image/png": "[encoded data removed]",
      "text/plain": [
       "<Figure size 360x360 with 1 Axes>"
      ]
     },
     "metadata": {},
     "output_type": "display_data"
    }
   ],
   "source": [
    "sns.catplot(y = 'Survived', x = 'Embarked', data = train, kind = 'bar')"
   ]
  },
  {
   "cell_type": "code",
   "execution_count": 28,
   "metadata": {},
   "outputs": [
    {
     "name": "stdout",
     "output_type": "stream",
     "text": [
      "<class 'pandas.core.frame.DataFrame'>\n",
      "Int64Index: 77 entries, 6 to 891\n",
      "Data columns (total 19 columns):\n",
      " #   Column    Non-Null Count  Dtype  \n",
      "---  ------    --------------  -----  \n",
      " 0   Survived  77 non-null     int64  \n",
      " 1   Pclass    77 non-null     int64  \n",
      " 2   Name      77 non-null     object \n",
      " 3   Sex       77 non-null     int64  \n",
      " 4   Age       77 non-null     float64\n",
      " 5   SibSp     77 non-null     int64  \n",
      " 6   Parch     77 non-null     int64  \n",
      " 7   Ticket    77 non-null     object \n",
      " 8   Fare      77 non-null     float64\n",
      " 9   Cabin     4 non-null      object \n",
      " 10  Embarked  77 non-null     object \n",
      " 11  Title     77 non-null     object \n",
      " 12  Master    77 non-null     uint8  \n",
      " 13  Miss      77 non-null     uint8  \n",
      " 14  Mr        77 non-null     uint8  \n",
      " 15  Mrs       77 non-null     uint8  \n",
      " 16  Rev       77 non-null     uint8  \n",
      " 17  Q         77 non-null     uint8  \n",
      " 18  S         77 non-null     uint8  \n",
      "dtypes: float64(2), int64(5), object(5), uint8(7)\n",
      "memory usage: 8.3+ KB\n"
     ]
    }
   ],
   "source": [
    "train[train.Embarked=='Q'].info()"
   ]
  },
  {
   "cell_type": "code",
   "execution_count": 29,
   "metadata": {},
   "outputs": [
    {
     "data": {
      "text/plain": [
       "<seaborn.axisgrid.FacetGrid at 0x28615fcb4c8>"
      ]
     },
     "execution_count": 29,
     "metadata": {},
     "output_type": "execute_result"
    },
    {
     "data": {
      "text/plain": [
       "<Figure size 432x216 with 0 Axes>"
      ]
     },
     "metadata": {},
     "output_type": "display_data"
    },
    {
     "data": {
      "image/png": "[encoded data removed]",
      "text/plain": [
       "<Figure size 360x360 with 1 Axes>"
      ]
     },
     "metadata": {},
     "output_type": "display_data"
    }
   ],
   "source": [
    "plt.figure(figsize=(6,3))\n",
    "sns.set(style=\"whitegrid\")\n",
    "sns.catplot(y = 'Age', x = 'Sex', data = train, kind = 'bar')"
   ]
  },
  {
   "cell_type": "code",
   "execution_count": 8,
   "metadata": {},
   "outputs": [
    {
     "name": "stdout",
     "output_type": "stream",
     "text": [
      "train score: 0.875748502994012\n",
      "valid score: 0.820627802690583\n"
     ]
    },
    {
     "data": {
      "image/png": "[encoded data removed]",
      "text/plain": [
       "<Figure size 360x360 with 1 Axes>"
      ]
     },
     "metadata": {
      "needs_background": "light"
     },
     "output_type": "display_data"
    }
   ],
   "source": [
    "### fitting model\n",
    "X, y = train.drop(['Survived'], axis = 1), train['Survived']\n",
    "X_train, X_val, y_train, y_val = train_test_split(X, y, test_size = 0.25, random_state = 21)\n",
    "clf = RandomForestClassifier(max_depth=6, random_state=21)\n",
    "clf.fit(X_train.drop(cat_cols, axis=1), y_train)\n",
    "\n",
    "feature_importance = pd.DataFrame(clf.feature_importances_, \n",
    "                                  index = X_train.drop(cat_cols, axis=1).columns,\n",
    "                                  columns = ['importance']\n",
    "                                ).sort_values('importance', ascending = False).reset_index()\n",
    "# print(feature_importance)\n",
    "sns.catplot(y='importance', x='index', data = feature_importance, kind = 'bar').set_xticklabels(rotation=45)\n",
    "\n",
    "print(f'train score: {clf.score(X_train.drop(cat_cols, axis=1), y_train)}') #0.83 with mean age imputer\n",
    "print(f'valid score: {clf.score(X_val.drop(cat_cols, axis=1), y_val)}') #0.807175 mean age imputer for max_depth=4\n",
    "test_predictions = clf.predict(test.drop(cat_cols,axis=1))#.drop('Survived',axis=1))\n",
    "\n"
   ]
  },
  {
   "cell_type": "code",
   "execution_count": 6,
   "metadata": {},
   "outputs": [],
   "source": [
    "test_prediction = test.copy()\n",
    "test_prediction['Survived'] = test_predictions\n",
    "test_prediction['Survived'].to_csv('gender_submission_6.csv', header = True) \n",
    "### gets 0.79904 on public leaderboard on kaggle"
   ]
  },
  {
   "cell_type": "code",
   "execution_count": 32,
   "metadata": {},
   "outputs": [
    {
     "name": "stdout",
     "output_type": "stream",
     "text": [
      "<class 'pandas.core.frame.DataFrame'>\n",
      "Int64Index: 418 entries, 892 to 1309\n",
      "Data columns (total 19 columns):\n",
      " #   Column    Non-Null Count  Dtype  \n",
      "---  ------    --------------  -----  \n",
      " 0   Pclass    418 non-null    int64  \n",
      " 1   Name      418 non-null    object \n",
      " 2   Sex       418 non-null    int64  \n",
      " 3   Age       418 non-null    float64\n",
      " 4   SibSp     418 non-null    int64  \n",
      " 5   Parch     418 non-null    int64  \n",
      " 6   Ticket    418 non-null    object \n",
      " 7   Fare      418 non-null    float64\n",
      " 8   Cabin     91 non-null     object \n",
      " 9   Embarked  418 non-null    object \n",
      " 10  Title     418 non-null    object \n",
      " 11  Master    418 non-null    uint8  \n",
      " 12  Miss      418 non-null    uint8  \n",
      " 13  Mr        418 non-null    uint8  \n",
      " 14  Mrs       418 non-null    uint8  \n",
      " 15  Rev       418 non-null    uint8  \n",
      " 16  Q         418 non-null    uint8  \n",
      " 17  S         418 non-null    uint8  \n",
      " 18  Survived  418 non-null    int64  \n",
      "dtypes: float64(2), int64(5), object(5), uint8(7)\n",
      "memory usage: 45.3+ KB\n"
     ]
    }
   ],
   "source": [
    "test_prediction.info()"
   ]
  },
  {
   "cell_type": "code",
   "execution_count": null,
   "metadata": {},
   "outputs": [],
   "source": []
  }
 ],
 "metadata": {
  "kernelspec": {
   "display_name": "Python 3",
   "language": "python",
   "name": "python3"
  },
  "language_info": {
   "codemirror_mode": {
    "name": "ipython",
    "version": 3
   },
   "file_extension": ".py",
   "mimetype": "text/x-python",
   "name": "python",
   "nbconvert_exporter": "python",
   "pygments_lexer": "ipython3",
   "version": "3.7.6"
  }
 },
 "nbformat": 4,
 "nbformat_minor": 2
}
